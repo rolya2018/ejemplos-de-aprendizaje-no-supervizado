{
  "nbformat": 4,
  "nbformat_minor": 0,
  "metadata": {
    "colab": {
      "name": "clustering-KMenas.ipynb",
      "provenance": []
    },
    "kernelspec": {
      "name": "python3",
      "display_name": "Python 3"
    }
  },
  "cells": [
    {
      "cell_type": "markdown",
      "metadata": {
        "id": "ioUK9AjVYoTv"
      },
      "source": [
        "# Clustering (Jerárquico) \n",
        "**Estudiante: Roly Anibal Quellca Hancco <br>\n",
        "Código de Estudiante:171826**\n"
      ]
    },
    {
      "cell_type": "markdown",
      "metadata": {
        "id": "IgsMAwCS-mjN"
      },
      "source": [
        "En este notebook vamos a utilizar las siguientes librerías:\n",
        "- Scikit-learn y Scipy para el análisis,\n",
        "- Mtplotlib para los gráficos.\n",
        "\n",
        "## Preparando los datos para clustering\n",
        "\n",
        "Para comenzar, importamos del módulo sklearn.datasets la función __load_iris__ para cargar el dataset iris que vamos a utilizar."
      ]
    },
    {
      "cell_type": "code",
      "metadata": {
        "id": "pwc6NwulcY6E"
      },
      "source": [
        "import matplotlib.pyplot as plt\n",
        "from sklearn.datasets import load_iris\n",
        "\n",
        "# cargo el dataset\n",
        "iris = load_iris()\n"
      ],
      "execution_count": 11,
      "outputs": []
    },
    {
      "cell_type": "markdown",
      "metadata": {
        "id": "TrY-Krjv_Df1"
      },
      "source": [
        "Generalmente, cuando trabajemos con algoritmos de _clustering_, dado que son algoritmos basados en distancias, va a ser fundamental escalar los datos para prescindir de las unidades de medida de las diferentes features. A continuación, escalamos los datos numéricos:"
      ]
    },
    {
      "cell_type": "code",
      "metadata": {
        "id": "m5WWdVuK_VkY",
        "colab": {
          "base_uri": "https://localhost:8080/"
        },
        "outputId": "884caf87-3586-4ac6-8499-85f49b10cb10"
      },
      "source": [
        "# Importamos dos módulos para escalado, existen más\n",
        "# scale: Centro a la media y escala de componentes a la varianza de la unidad\n",
        "# MinMaxScaler: \n",
        "from sklearn.preprocessing import scale, MinMaxScaler\n",
        "\n",
        "# scale\n",
        "scaled_1 = scale(iris.data)\n",
        "\n",
        "# MinMaxScaler\n",
        "scaler = MinMaxScaler()\n",
        "scaled_2 = scaler.fit_transform(iris.data)\n",
        "\n",
        "# Muestro las primeras 5 filas escaladas con scale\n",
        "print(\"Escalado con scale:\")\n",
        "print(scaled_1[1:6,])\n",
        "\n",
        "# Muestro las primeras 5 filas escaladas con Min-Max\n",
        "print(\"\\nEscalado con Min-Max:\")\n",
        "print(scaled_2[1:6,])\n"
      ],
      "execution_count": 8,
      "outputs": [
        {
          "output_type": "stream",
          "text": [
            "Escalado con scale:\n",
            "[[-1.14301691 -0.13197948 -1.34022653 -1.3154443 ]\n",
            " [-1.38535265  0.32841405 -1.39706395 -1.3154443 ]\n",
            " [-1.50652052  0.09821729 -1.2833891  -1.3154443 ]\n",
            " [-1.02184904  1.24920112 -1.34022653 -1.3154443 ]\n",
            " [-0.53717756  1.93979142 -1.16971425 -1.05217993]]\n",
            "\n",
            "Escalado con Min-Max:\n",
            "[[0.16666667 0.41666667 0.06779661 0.04166667]\n",
            " [0.11111111 0.5        0.05084746 0.04166667]\n",
            " [0.08333333 0.45833333 0.08474576 0.04166667]\n",
            " [0.19444444 0.66666667 0.06779661 0.04166667]\n",
            " [0.30555556 0.79166667 0.11864407 0.125     ]]\n"
          ],
          "name": "stdout"
        }
      ]
    },
    {
      "cell_type": "markdown",
      "metadata": {
        "id": "9HzgmcEQTehm"
      },
      "source": [
        "## Algoritmo de Clustering Jerárquico\n",
        "\n",
        "\n"
      ]
    },
    {
      "cell_type": "code",
      "metadata": {
        "id": "zBwQLD4aVXoJ"
      },
      "source": [
        "#A continuación, vamos a realizar un clustering jerárquico. Para ello vamos a utilizar la librería _scipy_.\r\n",
        "#Importamos los módulo linkage para el agrupamiento y _dendogram_ para su visualización:\r\n",
        "from scipy.cluster.hierarchy import dendrogram, linkage"
      ],
      "execution_count": 9,
      "outputs": []
    },
    {
      "cell_type": "markdown",
      "metadata": {
        "id": "fFBA3yIiioc9"
      },
      "source": [
        "### Parámetros del Clustering Jerárquico\n",
        "El método linkage recibe como parámetro los datos y método para el cálculo de distancia.\n",
        "\n",
        "Los métodos para el cálculo de distancia soportados por _scipy_ son los siguientes:\n",
        "- single,\n",
        "- complete,\n",
        "- average,\n"
      ]
    },
    {
      "cell_type": "code",
      "metadata": {
        "id": "YU98wgPSkKgA"
      },
      "source": [
        "H = linkage(scaled_2, 'single')"
      ],
      "execution_count": 4,
      "outputs": []
    },
    {
      "cell_type": "markdown",
      "metadata": {
        "id": "V-vkHP9ijhw2"
      },
      "source": [
        "Podemos ver la matriz de distancias:"
      ]
    },
    {
      "cell_type": "code",
      "metadata": {
        "id": "Gvrwgzcfjocq",
        "colab": {
          "base_uri": "https://localhost:8080/"
        },
        "outputId": "a4d84d5e-f261-4ae2-fe4e-bd7eb3b22691"
      },
      "source": [
        "from scipy.spatial.distance import pdist, squareform\n",
        "\n",
        "squareform(pdist(scaled_2[0:4,]))"
      ],
      "execution_count": 10,
      "outputs": [
        {
          "output_type": "execute_result",
          "data": {
            "text/plain": [
              "array([[0.        , 0.21561354, 0.16810102, 0.21761244],\n",
              "       [0.21561354, 0.        , 0.10157824, 0.09469862],\n",
              "       [0.16810102, 0.10157824, 0.        , 0.06047157],\n",
              "       [0.21761244, 0.09469862, 0.06047157, 0.        ]])"
            ]
          },
          "metadata": {
            "tags": []
          },
          "execution_count": 10
        }
      ]
    },
    {
      "cell_type": "markdown",
      "metadata": {
        "id": "HL5chU8DkOoc"
      },
      "source": [
        "Y también podemos graficar el dendrograma:"
      ]
    },
    {
      "cell_type": "code",
      "metadata": {
        "id": "5lcjAS04Kzim",
        "colab": {
          "base_uri": "https://localhost:8080/",
          "height": 627
        },
        "outputId": "742773a8-7fc4-48a5-a09c-f013f468cc27"
      },
      "source": [
        "max_d = 7.08\n",
        "plt.figure(figsize=(20, 10))\n",
        "plt.title('Dendrograma')\n",
        "plt.xlabel('Observaciones')\n",
        "plt.ylabel('Distancia')\n",
        "dendrogram(\n",
        "    H, truncate_mode='lastp',\n",
        "    p=150, leaf_rotation=90.,\n",
        "    leaf_font_size=8.,\n",
        ")\n",
        "plt.axhline(y=max_d, c='k')\n",
        "plt.show()"
      ],
      "execution_count": 13,
      "outputs": [
        {
          "output_type": "display_data",
          "data": {
            "image/png": "[encoded data removed]",
            "text/plain": [
              "<Figure size 1440x720 with 1 Axes>"
            ]
          },
          "metadata": {
            "tags": [],
            "needs_background": "light"
          }
        }
      ]
    }
  ]
}